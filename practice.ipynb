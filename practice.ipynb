{
 "cells": [
  {
   "cell_type": "code",
   "execution_count": 1,
   "metadata": {},
   "outputs": [
    {
     "name": "stdout",
     "output_type": "stream",
     "text": [
      "{'A': 123, 'B': 345}\n",
      "345\n"
     ]
    },
    {
     "data": {
      "text/plain": [
       "345"
      ]
     },
     "execution_count": 1,
     "metadata": {},
     "output_type": "execute_result"
    }
   ],
   "source": [
    "from box import ConfigBox\n",
    "abc = {\n",
    "    \"A\" : 123 ,\n",
    "    'B' : 345\n",
    "}\n",
    "print(abc)\n",
    "cdf = ConfigBox(abc)\n",
    "print(abc.get('B'))\n",
    "cdf.get('B')"
   ]
  },
  {
   "cell_type": "code",
   "execution_count": 6,
   "metadata": {},
   "outputs": [
    {
     "name": "stdout",
     "output_type": "stream",
     "text": [
      "Database Host: localhost\n",
      "Debug Mode: True\n",
      "API Key: your_api_key_here\n"
     ]
    }
   ],
   "source": [
    "# Using a regular dictionary for configuration\n",
    "config = {\n",
    "    \"database\": {\n",
    "        \"host\": \"localhost\",\n",
    "        \"port\": 5432,\n",
    "        \"user\": \"admin\",\n",
    "        \"password\": \"password123\"\n",
    "    },\n",
    "    \"debug_mode\": True,\n",
    "    \"log_file\": \"/var/log/myapp.log\"\n",
    "}\n",
    "\n",
    "# Accessing configuration values\n",
    "print(\"Database Host:\", config[\"database\"][\"host\"])\n",
    "print(\"Debug Mode:\", config[\"debug_mode\"])\n",
    "\n",
    "# Adding or updating configuration values\n",
    "config[\"api_key\"] = \"your_api_key_here\"\n",
    "print(\"API Key:\", config[\"api_key\"])\n"
   ]
  },
  {
   "cell_type": "code",
   "execution_count": 7,
   "metadata": {},
   "outputs": [
    {
     "name": "stdout",
     "output_type": "stream",
     "text": [
      "Database Host: localhost\n",
      "Debug Mode: True\n",
      "API Key: your_api_key_here\n"
     ]
    }
   ],
   "source": [
    "from box import ConfigBox\n",
    "\n",
    "# Using ConfigBox for configuration\n",
    "config = ConfigBox({\n",
    "    \"database\": {\n",
    "        \"host\": \"localhost\",\n",
    "        \"port\": 5432,\n",
    "        \"user\": \"admin\",\n",
    "        \"password\": \"password123\"\n",
    "    },\n",
    "    \"debug_mode\": True,\n",
    "    \"log_file\": \"/var/log/myapp.log\"\n",
    "})\n",
    "\n",
    "# Accessing configuration values\n",
    "print(\"Database Host:\", config.database.host)\n",
    "print(\"Debug Mode:\", config.debug_mode)\n",
    "\n",
    "# Adding or updating configuration values\n",
    "config.api_key = \"your_api_key_here\"\n",
    "print(\"API Key:\", config.api_key)\n"
   ]
  }
 ],
 "metadata": {
  "kernelspec": {
   "display_name": "venv",
   "language": "python",
   "name": "python3"
  },
  "language_info": {
   "codemirror_mode": {
    "name": "ipython",
    "version": 3
   },
   "file_extension": ".py",
   "mimetype": "text/x-python",
   "name": "python",
   "nbconvert_exporter": "python",
   "pygments_lexer": "ipython3",
   "version": "3.10.0"
  }
 },
 "nbformat": 4,
 "nbformat_minor": 2
}
